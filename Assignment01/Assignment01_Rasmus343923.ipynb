{
 "cells": [
  {
   "cell_type": "code",
   "execution_count": null,
   "id": "initial_id",
   "metadata": {
    "collapsed": true
   },
   "outputs": [],
   "source": [
    "import math\n",
    "from collections import deque\n",
    "\n",
    "def bucket_sort(arr):\n",
    "    if len(arr) == 0:\n",
    "        return arr\n",
    "\n",
    "    # Step 1: Find the minimum and maximum values in the array\n",
    "    min_value, max_value = min(arr), max(arr)\n",
    "\n",
    "    # Step 2: Create the bucket array\n",
    "    bucket_count = len(arr)\n",
    "    buckets = [deque() for _ in range(bucket_count)]\n",
    "\n",
    "    # Step 3: Distribute elements into buckets\n",
    "    for num in arr:\n",
    "        index = math.floor((num - min_value) / (max_value - min_value + 1) * (bucket_count - 1))\n",
    "        buckets[index].append(num)\n",
    "\n",
    "    # Step 4: Sort individual buckets and concatenate\n",
    "    sorted_array = []\n",
    "    for bucket in buckets:\n",
    "        sorted_array.extend(sorted(bucket))\n",
    "    \n",
    "    return sorted_array"
   ]
  },
  {
   "metadata": {
    "ExecuteTime": {
     "end_time": "2024-10-21T19:38:24.035238Z",
     "start_time": "2024-10-21T19:38:24.025682Z"
    }
   },
   "cell_type": "code",
   "source": [
    "import random\n",
    "import time\n",
    "import matplotlib.pyplot as plt\n",
    "\n",
    "# To analyze the runtime, we will generate two scenarios:\n",
    "\n",
    "# Scenario 1: Numbers are evenly distributed.\n",
    "# Scenario 2: Numbers are unevenly distributed.\n",
    "# For each scenario, we will generate input arrays of varying sizes and measure the time taken to sort the array using the time library.\n",
    "\n",
    "# Function to generate evenly distributed numbers\n",
    "def generate_evenly_distributed(n):\n",
    "    return [random.randint(1, n) for _ in range(n)]\n",
    "\n",
    "# Function to generate unevenly distributed numbers\n",
    "def generate_unevenly_distributed(n):\n",
    "    arr = [random.randint(1, 10) for _ in range(n - 1)]\n",
    "    arr.append(10000000)  # Adding a very large number\n",
    "    return arr\n",
    "\n",
    "# Function to measure runtime of bucket sort for different input sizes\n",
    "def measure_runtime(scenario_function, n_values):\n",
    "    runtimes = []\n",
    "    for n in n_values:\n",
    "        arr = scenario_function(n)\n",
    "        start_time = time.time()\n",
    "        bucket_sort(arr)\n",
    "        end_time = time.time()\n",
    "        runtimes.append(end_time - start_time)\n",
    "    return runtimes"
   ],
   "id": "166e44debbef3161",
   "outputs": [],
   "execution_count": 3
  },
  {
   "metadata": {
    "ExecuteTime": {
     "end_time": "2024-10-21T20:05:04.368997Z",
     "start_time": "2024-10-21T20:05:04.357131Z"
    }
   },
   "cell_type": "code",
   "source": [
    "# We'll now write the code to generate the test cases, measure the runtime for both scenarios, and plot the results on a graph.\n",
    "\n",
    "# Define input sizes to test\n",
    "n_values = [100, 500, 1000, 5000, 10000, 20000]\n",
    "\n",
    "# Measure runtime for evenly distributed numbers\n",
    "evenly_distributed_runtimes = measure_runtime(generate_evenly_distributed, n_values)\n",
    "\n",
    "# Measure runtime for unevenly distributed numbers\n",
    "unevenly_distributed_runtimes = measure_runtime(generate_unevenly_distributed, n_values)\n",
    "\n",
    "# Plot the results\n",
    "plt.plot(n_values, evenly_distributed_runtimes, label=\"Evenly Distributed\")\n",
    "plt.plot(n_values, unevenly_distributed_runtimes, label=\"Unevenly Distributed\")\n",
    "plt.xlabel(\"Input Size (n)\")\n",
    "plt.ylabel(\"Runtime (seconds)\")\n",
    "plt.title(\"BucketSort Runtime Comparison\")\n",
    "plt.legend()\n",
    "plt.show()"
   ],
   "id": "c77f7f4937d392f3",
   "outputs": [
    {
     "ename": "NameError",
     "evalue": "name 'measure_runtime' is not defined",
     "output_type": "error",
     "traceback": [
      "\u001B[1;31m---------------------------------------------------------------------------\u001B[0m",
      "\u001B[1;31mNameError\u001B[0m                                 Traceback (most recent call last)",
      "Cell \u001B[1;32mIn[3], line 5\u001B[0m\n\u001B[0;32m      2\u001B[0m n_values \u001B[38;5;241m=\u001B[39m [\u001B[38;5;241m100\u001B[39m, \u001B[38;5;241m500\u001B[39m, \u001B[38;5;241m1000\u001B[39m, \u001B[38;5;241m5000\u001B[39m, \u001B[38;5;241m10000\u001B[39m, \u001B[38;5;241m20000\u001B[39m]\n\u001B[0;32m      4\u001B[0m \u001B[38;5;66;03m# Measure runtime for evenly distributed numbers\u001B[39;00m\n\u001B[1;32m----> 5\u001B[0m evenly_distributed_runtimes \u001B[38;5;241m=\u001B[39m \u001B[43mmeasure_runtime\u001B[49m(generate_evenly_distributed, n_values)\n\u001B[0;32m      7\u001B[0m \u001B[38;5;66;03m# Measure runtime for unevenly distributed numbers\u001B[39;00m\n\u001B[0;32m      8\u001B[0m unevenly_distributed_runtimes \u001B[38;5;241m=\u001B[39m measure_runtime(generate_unevenly_distributed, n_values)\n",
      "\u001B[1;31mNameError\u001B[0m: name 'measure_runtime' is not defined"
     ]
    }
   ],
   "execution_count": 3
  },
  {
   "metadata": {},
   "cell_type": "markdown",
   "source": "",
   "id": "f65223c47658a01e"
  },
  {
   "metadata": {},
   "cell_type": "markdown",
   "source": [
    "The graph above compares the runtime performance of the BucketSort algorithm for two different scenarios:\n",
    "\n",
    "Evenly Distributed Input: In the evenly distributed case, the input values are more likely to be uniformly spread across the buckets. As a result, the sorting of individual buckets is efficient, leading to a better runtime.\n",
    "\n",
    "Unevenly Distributed Input: In the uneven distribution scenario, a large number (e.g., 10,000,000) is added. This causes the elements to be placed unevenly in the buckets. Some buckets may contain many elements, while others may have very few. As a result, the sorting of buckets becomes inefficient, increasing the overall runtime.\n",
    "\n",
    "\n",
    "Explanation of Trends\n",
    "\n",
    "Evenly Distributed Case:\n",
    "\n",
    "The runtime increases gradually as the input size (n) grows. Since the input values are evenly spread, the elements are more uniformly distributed across the buckets, \n",
    "leading to efficient sorting. The runtime growth is close to linear due to this balanced bucket filling.\n",
    "\n",
    "Unevenly Distributed Case:\n",
    "\n",
    "The runtime grows more rapidly as the input size increases. This is because a large number disrupts the uniformity of the distribution, causing one bucket to receive disproportionate number of elements. Sorting within these overloaded buckets becomes more time-consuming, leading to a higher overall runtime.\n",
    "\n",
    "\n",
    "In summary, the BucketSort algorithm performs well with evenly distributed inputs, but its efficiency is negatively impacted when input elements are unevenly distributed."
   ],
   "id": "abc1c219e398a668"
  }
 ],
 "metadata": {
  "kernelspec": {
   "display_name": "Python 3",
   "language": "python",
   "name": "python3"
  },
  "language_info": {
   "codemirror_mode": {
    "name": "ipython",
    "version": 2
   },
   "file_extension": ".py",
   "mimetype": "text/x-python",
   "name": "python",
   "nbconvert_exporter": "python",
   "pygments_lexer": "ipython2",
   "version": "2.7.6"
  }
 },
 "nbformat": 4,
 "nbformat_minor": 5
}
