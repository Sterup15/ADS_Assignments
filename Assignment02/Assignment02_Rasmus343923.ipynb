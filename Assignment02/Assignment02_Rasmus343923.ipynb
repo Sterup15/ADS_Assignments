{
 "cells": [
  {
   "metadata": {},
   "cell_type": "markdown",
   "source": [
    "N-Queens Problem solution assignment (SW_ADS1 course assignment 02)\n",
    "\n",
    "The goal is to place N queens on an \n",
    "N × N chessboard such that no two queens threaten each other, meaning:\n",
    "\n",
    "- No two queens can be in the same row.\n",
    "- No two queens can be in the same column.\n",
    "- No two queens can be in the same diagonal."
   ],
   "id": "1e40492224d42880"
  },
  {
   "metadata": {
    "ExecuteTime": {
     "end_time": "2024-10-29T15:41:59.889709Z",
     "start_time": "2024-10-29T15:41:59.881575Z"
    }
   },
   "cell_type": "code",
   "source": [
    "def is_valid(board, row, col):\n",
    "    # Check if placing a queen at (row, col) is safe\n",
    "    for i in range(row):\n",
    "        # Check if any queen is in the same column or in a diagonal position\n",
    "        # Check for same column:\n",
    "        if (board[i] == col or \\ \n",
    "            #Check for diagonals:\n",
    "           board[i] - i == col - row or \\ \n",
    "           board[i] + i == col + row):\n",
    "            return False\n",
    "    return True\n",
    "\n",
    "def solve_nqueens(N):\n",
    "    def backtrack(row):\n",
    "        # Base case: if row == N, all rows have a queen, therefore the board is added to solutions\n",
    "        if row == N:\n",
    "            solutions.append(board[:])\n",
    "            return True\n",
    "        # For each column in the row, check if it's valid to place a queen\n",
    "        for col in range(N):\n",
    "            if is_valid(board, row, col): \n",
    "                board[row] = col # Placing the queen\n",
    "                if backtrack(row + 1):  # Proceed with the next row\n",
    "                    return True # If branch is successful, return true to end search\n",
    "                board[row] = -1  # If placing the queen doesn't lead to a solution, reset the row and backtrack\n",
    "        return False\n",
    "    \n",
    "    # Initialize the board with -1 (no queens placed initially)\n",
    "    board = [-1] * N\n",
    "    solutions = []\n",
    "    backtrack(0)\n",
    "    return solutions[0] if solutions else []\n",
    "\n",
    "# Find and print a solution for N = 8\n",
    "N = 8\n",
    "solution = solve_nqueens(N)\n",
    "print(\"Solution for N=8:\", solution)"
   ],
   "id": "2710ac33a0747770",
   "outputs": [
    {
     "name": "stdout",
     "output_type": "stream",
     "text": [
      "Solution for N=8: [0, 4, 7, 5, 2, 6, 1, 3]\n"
     ]
    }
   ],
   "execution_count": 1
  },
  {
   "metadata": {},
   "cell_type": "markdown",
   "source": [
    "Chessboard representation: \n",
    "\n",
    "The chessboard is represented as a 1-dimensional array, where each index represents a row, and the value of the index represents the column in the row where\n",
    "a queen is placed.\n",
    "This approach also helps with managing row constrains, as there is no need for such in the implementation, because a row can only contain 1 queen."
   ],
   "id": "30e45dda2e606daf"
  },
  {
   "metadata": {
    "ExecuteTime": {
     "end_time": "2024-10-29T15:56:05.381392Z",
     "start_time": "2024-10-29T15:56:05.280537Z"
    }
   },
   "cell_type": "code",
   "source": [
    "import matplotlib.pyplot as plt\n",
    "import numpy as np\n",
    "\n",
    "def plot_nqueens_solution(solution):\n",
    "    N = len(solution)\n",
    "    board = np.zeros((N, N))\n",
    "\n",
    "    # Place queens on the board\n",
    "    for row, col in enumerate(solution):\n",
    "        board[row, col] = 1\n",
    "\n",
    "    # Create the plot\n",
    "    fig, ax = plt.subplots()\n",
    "    ax.matshow(board, cmap=\"binary\")\n",
    "\n",
    "    # Add text to denote queens\n",
    "    for i in range(N):\n",
    "        for j in range(N):\n",
    "            if board[i, j] == 1:\n",
    "                ax.text(j, i, \"Q\", va='center', ha='center', color=\"red\", fontsize=18)\n",
    "\n",
    "    plt.xticks([])\n",
    "    plt.yticks([])\n",
    "    plt.show()\n",
    "\n",
    "# Visualize the solution for N=8\n",
    "plot_nqueens_solution(solution)"
   ],
   "id": "2847c9792df2de1e",
   "outputs": [
    {
     "data": {
      "text/plain": [
       "<Figure size 640x480 with 1 Axes>"
      ],
      "image/png": "[encoded data removed]"
     },
     "metadata": {},
     "output_type": "display_data"
    }
   ],
   "execution_count": 3
  }
 ],
 "metadata": {
  "kernelspec": {
   "display_name": "Python 3",
   "language": "python",
   "name": "python3"
  },
  "language_info": {
   "codemirror_mode": {
    "name": "ipython",
    "version": 2
   },
   "file_extension": ".py",
   "mimetype": "text/x-python",
   "name": "python",
   "nbconvert_exporter": "python",
   "pygments_lexer": "ipython2",
   "version": "2.7.6"
  }
 },
 "nbformat": 4,
 "nbformat_minor": 5
}
